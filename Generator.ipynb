{
  "nbformat": 4,
  "nbformat_minor": 0,
  "metadata": {
    "colab": {
      "name": "Generator.ipynb",
      "provenance": [],
      "authorship_tag": "ABX9TyPyddn+0O2Tfzk8vYA0xs62",
      "include_colab_link": true
    },
    "kernelspec": {
      "name": "python3",
      "display_name": "Python 3"
    }
  },
  "cells": [
    {
      "cell_type": "markdown",
      "metadata": {
        "id": "view-in-github",
        "colab_type": "text"
      },
      "source": [
        "<a href=\"https://colab.research.google.com/github/Amaljayaranga/NvidiaGenerator/blob/master/Generator.ipynb\" target=\"_parent\"><img src=\"https://colab.research.google.com/assets/colab-badge.svg\" alt=\"Open In Colab\"/></a>"
      ]
    },
    {
      "cell_type": "code",
      "metadata": {
        "id": "KyhbqoTV46Hx",
        "colab_type": "code",
        "outputId": "0b3997b5-657a-4100-8697-1aee3ca0907a",
        "colab": {
          "base_uri": "https://localhost:8080/",
          "height": 33
        }
      },
      "source": [
        "import torch.nn as nn\n",
        "import torch\n",
        "\n",
        "\n",
        "Z_SIZE = 256\n",
        "\n",
        "\n",
        "class PixelNorm(nn.Module):\n",
        "    def __init__(self, epsilon=1e-8):\n",
        "        super(PixelNorm, self).__init__()\n",
        "        self.epsilon = epsilon\n",
        "\n",
        "    def forward(self, x):\n",
        "        tmp = torch.mul(x, x)\n",
        "        tmp = torch.rsqrt(torch.mean(tmp, dim=1, keepdim=True) + self.epsilon)\n",
        "        return x * tmp\n",
        "\n",
        "class Reshape(nn.Module):\n",
        "    def __init__(self):\n",
        "        super(Reshape, self).__init__()\n",
        "\n",
        "    def forward(self, x):\n",
        "        x = x.view(Z_SIZE,1,1,1)\n",
        "        return x\n",
        "\n",
        "\n",
        "class Generator(nn.Module):\n",
        "\n",
        "    def __init__(self):\n",
        "        super(Generator, self).__init__()\n",
        "\n",
        "        self.initial = nn.Sequential(PixelNorm(),\n",
        "                                     nn.Linear(Z_SIZE, Z_SIZE),\n",
        "                                     nn.LeakyReLU(),\n",
        "                                     PixelNorm(),\n",
        "                                     Reshape(),\n",
        "                                     nn.Conv2d(in_channels=1, out_channels=16, kernel_size=3, stride=1, padding=1),\n",
        "                                     nn.LeakyReLU(),\n",
        "                                     PixelNorm()\n",
        "                                     )\n",
        "\n",
        "    def forward(self, z):\n",
        "        x = self.initial(z)\n",
        "        print(\"forward\", x.shape)\n",
        "\n",
        "\n",
        "\n",
        "z = torch.randn(1,256)\n",
        "gen = Generator()\n",
        "v = gen(z)\n"
      ],
      "execution_count": 0,
      "outputs": [
        {
          "output_type": "stream",
          "text": [
            "forward torch.Size([256, 16, 1, 1])\n"
          ],
          "name": "stdout"
        }
      ]
    }
  ]
}